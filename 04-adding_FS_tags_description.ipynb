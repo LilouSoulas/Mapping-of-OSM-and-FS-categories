{
 "cells": [
  {
   "cell_type": "code",
   "execution_count": 1,
   "id": "221c1299",
   "metadata": {},
   "outputs": [],
   "source": [
    "import geopandas as gpd\n",
    "import pandas as pd\n",
    "import numpy as np\n",
    "import pandas as pd\n",
    "import matplotlib.pyplot as plt"
   ]
  },
  {
   "cell_type": "code",
   "execution_count": null,
   "id": "231e1294",
   "metadata": {},
   "outputs": [],
   "source": [
    "# Load the cleaned FourSquare categories DataFrame from CSV\n",
    "df_fs = pd.read_csv('Database/Clean_categories/categories_FS_clean.csv', sep=';')\n",
    "\n",
    "# Load the FourSquare tag definitions from CSV\n",
    "df_fs_desc = pd.read_csv('Database/FourSquare/def_tags_fs.csv', sep=',')"
   ]
  },
  {
   "cell_type": "code",
   "execution_count": null,
   "id": "7eb94688",
   "metadata": {},
   "outputs": [],
   "source": [
    "# Rename the column 'word' to 'Tag' for consistency\n",
    "df_fs_desc = df_fs_desc.rename(columns={\"word\": \"Tag\"})\n",
    "\n",
    "# Merge the FS categories with their descriptions based on the 'Tag' column\n",
    "df_fs_with_description = pd.merge(df_fs, df_fs_desc, on=\"Tag\", how=\"left\")"
   ]
  },
  {
   "cell_type": "code",
   "execution_count": null,
   "id": "d3c982bb",
   "metadata": {},
   "outputs": [],
   "source": [
    "# Optionally, save the merged FS categories with descriptions to a CSV file\n",
    "# df_fs_with_description.to_csv(\"Database/Clean_categories/categories_FS_clean_description.csv\", index=False, sep=\";\")"
   ]
  }
 ],
 "metadata": {
  "kernelspec": {
   "display_name": "Python 3",
   "language": "python",
   "name": "python3"
  },
  "language_info": {
   "codemirror_mode": {
    "name": "ipython",
    "version": 3
   },
   "file_extension": ".py",
   "mimetype": "text/x-python",
   "name": "python",
   "nbconvert_exporter": "python",
   "pygments_lexer": "ipython3",
   "version": "3.10.11"
  }
 },
 "nbformat": 4,
 "nbformat_minor": 5
}
